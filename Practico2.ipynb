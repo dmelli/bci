{
 "cells": [
  {
   "cell_type": "code",
   "execution_count": 398,
   "metadata": {},
   "outputs": [],
   "source": [
    "import pandas as pd\n",
    "import numpy as np\n",
    "import math\n",
    "import matplotlib.pyplot as plt"
   ]
  },
  {
   "cell_type": "markdown",
   "metadata": {},
   "source": [
    "# Practico 2 - Reconocimiento de Patrones - Diego Melli 4747143-8"
   ]
  },
  {
   "cell_type": "markdown",
   "metadata": {},
   "source": [
    "## Ejercicio 1: Decisión bayesian"
   ]
  },
  {
   "cell_type": "markdown",
   "metadata": {},
   "source": [
    "### Pt1"
   ]
  },
  {
   "cell_type": "markdown",
   "metadata": {},
   "source": [
    "Por ser probabilidades sabes que la suma es igual a 1.\n",
    "$$\\sum_{i=1}^{c} P(w_{i}\\mid x) = 1$$\n",
    "\n",
    "Luego, como usando que $P(w_{max}\\mid x) \\geq P(w_{i}\\mid x) $\n",
    "\n",
    "$$ P(w_{max}\\mid x) + \\sum_{i=1}^{c-1} P(w_{i}\\mid x) \\geq \\sum_{i=1}^{c} P(w_{i}\\mid x)=1$$\n",
    "$$ 2P(w_{max}\\mid x) + \\sum_{i=1}^{c-2} P(w_{i}\\mid x) \\geq \\sum_{i=1}^{c} P(w_{i}\\mid x)=1$$\n",
    "$$ c P(w_{max}\\mid x) \\geq  \\sum_{i=1}^{c} P(w_{i} \\mid x)=1$$\n",
    "\n",
    "$$ P(w_{max}\\mid x) \\geq  \\frac{1}{c} $$"
   ]
  },
  {
   "cell_type": "markdown",
   "metadata": {},
   "source": [
    "### Pt2"
   ]
  },
  {
   "cell_type": "markdown",
   "metadata": {},
   "source": [
    "$$ P(error \\mid x) = min[P(w_{1}\\mid x), P(w_{2} \\mid x), ..., P(w_{c} \\mid x)] $$\n",
    "$$ P(error \\mid x) =\\int P(w_{min}\\mid x)P(x)  d x$$\n",
    "Entonces\n",
    "$$ P(error \\mid x) = 1 -  \\int P(w_{max}\\mid x)P(x)dx  $$"
   ]
  },
  {
   "cell_type": "markdown",
   "metadata": {},
   "source": [
    "### Pt3"
   ]
  },
  {
   "cell_type": "markdown",
   "metadata": {},
   "source": [
    "Usando la parte 1 y 2 se tiene:\n",
    "$$ P(error \\mid x) = 1 -  \\int P(w_{max}\\mid x)P(x)dx $$\n",
    "$$ P(error \\mid x) = 1 -  \\int P(w_{max}\\mid x)P(x)dx \\geq  1- \\int \\frac{1}{c}P(x)dx$$\n",
    "$$ P(error \\mid x) = 1 -  \\int P(w_{max}\\mid x)P(x)dx \\geq  1- \\frac{1}{c}$$\n",
    "$$ P(error \\mid x) = 1 -  \\int P(w_{max}\\mid x)P(x)dx \\geq \\frac{c-1}{c}$$"
   ]
  },
  {
   "cell_type": "markdown",
   "metadata": {},
   "source": [
    "### Pt4"
   ]
  },
  {
   "cell_type": "markdown",
   "metadata": {},
   "source": [
    "Se cumple la igualdad $ P(error \\mid x) = \\frac{c-1}{c}$ cuando $P(w_{i})=P(w_{j})$ para todo $i,j$"
   ]
  },
  {
   "cell_type": "markdown",
   "metadata": {},
   "source": [
    "## Ejercicio 3: Perceptron"
   ]
  },
  {
   "cell_type": "markdown",
   "metadata": {},
   "source": [
    "### Pt1"
   ]
  },
  {
   "cell_type": "markdown",
   "metadata": {},
   "source": [
    "Dado un conjunto de $n$ muestras $y_1, ..., y_n$, algunas etiquetadas como $w_1$ y otras etiquetadas como $w_2$.\n",
    "Queremos usar estas muestras para determinar los pesos $a$ en una función discriminante lineal $g(x) = a^ty$.\n",
    "\n",
    "Una muestra $y_i$ se clasifica correctamente si $a^ty_i > 0$ e $y_i$ está etiquetado como $w_1$, o si $a^ty_i < 0$ e $y_i$ está etiquetado como $w_2$.\n",
    "Esto sugiere una \"normalización\" que simplifica el tratamiento del caso de dos categorías, es decir, el reemplazo de todas las muestras etiquetadas como $w_2$ por sus negativos. Con esta \"normalización\" podemos olvidar las etiquetas y buscar un vector de pesos a tal que $a^ty_i > 0$ para todas las muestras. Dicho vector de pesos se llama vector solución.\n",
    "\n",
    "Cada muestra $y_i$ pone una restricción en la posible ubicación de un vector solución. La ecuación $a^ty_i = 0$ define un hiperplano a través del origen del espacio de pesos, que tiene $y_i$ como un vector normal. El vector solución, si existe, debe estar en el lado positivo de cada hiperplano.\n",
    "Por lo tanto, un vector solución debe estar en la intersección de $n$ semi espacios; de hecho, cualquier vector en esta región es un vector solución.\n",
    "\n",
    "El enfoque a tomar para encontrar una solución al conjunto de desigualdades lineales $a^ty_i > 0$ será definir una función de criterio $J(a)$ que sea minima si a es un vector de solución. Esto reduce nuestro problema a uno de minimizar una función escalar.\n",
    "\n",
    "El criterio de Perceptron se define:\n",
    "$$J_p(a) = \\sum_{y \\in \\gamma } -a^t y$$\n",
    "donde $\\gamma(a)$ es el conjunto de muestras mal clasificadas.\n",
    "Si no se clasifican erróneamente las muestras, $\\gamma$ está vacío y definimos $J_p$ como cero. Dado que $a^ty ≤0$ si $y$ es mal clasificado, $J_p(a)$ nunca es negativo, siendo cero solo si a es un vector de solución, o si a está en el límite de decisión. Geométricamente, $J_p(a)$ es proporcional a la suma de las distancias de las muestras mal clasificadas al límite de decisión.\n",
    "\n",
    "Como el componente $jth$ del gradiente de $J_p$ es $\\frac{\\partial J_p}{ \\partial a_j}$\n",
    "\n",
    "$$\\triangledown J_p = \\sum_{y \\in \\gamma } -y$$\n",
    "\n",
    "y por lo tanto la regla de actualización se convierte\n",
    "\n",
    "$$a(k+1)= a(k)+\\eta(k)*\\sum_{y \\in \\gamma_k } y$$\n",
    "\n",
    "donde $\\eta(k)$ es el rate de aprendizaje e $\\gamma_k$ es el conjunto de ejemplos mal clasificados utilizando los pesos $a(k)$."
   ]
  },
  {
   "cell_type": "markdown",
   "metadata": {},
   "source": [
    "### Pt2"
   ]
  },
  {
   "cell_type": "code",
   "execution_count": 399,
   "metadata": {},
   "outputs": [
    {
     "data": {
      "text/html": [
       "<div>\n",
       "<style scoped>\n",
       "    .dataframe tbody tr th:only-of-type {\n",
       "        vertical-align: middle;\n",
       "    }\n",
       "\n",
       "    .dataframe tbody tr th {\n",
       "        vertical-align: top;\n",
       "    }\n",
       "\n",
       "    .dataframe thead th {\n",
       "        text-align: right;\n",
       "    }\n",
       "</style>\n",
       "<table border=\"1\" class=\"dataframe\">\n",
       "  <thead>\n",
       "    <tr style=\"text-align: right;\">\n",
       "      <th></th>\n",
       "      <th>x0</th>\n",
       "      <th>x1</th>\n",
       "      <th>x2</th>\n",
       "      <th>clase</th>\n",
       "    </tr>\n",
       "  </thead>\n",
       "  <tbody>\n",
       "    <tr>\n",
       "      <th>0</th>\n",
       "      <td>1</td>\n",
       "      <td>1.00079</td>\n",
       "      <td>-14.96788</td>\n",
       "      <td>0</td>\n",
       "    </tr>\n",
       "    <tr>\n",
       "      <th>1</th>\n",
       "      <td>1</td>\n",
       "      <td>10.20447</td>\n",
       "      <td>-10.82023</td>\n",
       "      <td>0</td>\n",
       "    </tr>\n",
       "    <tr>\n",
       "      <th>2</th>\n",
       "      <td>1</td>\n",
       "      <td>-5.88639</td>\n",
       "      <td>-17.10331</td>\n",
       "      <td>0</td>\n",
       "    </tr>\n",
       "    <tr>\n",
       "      <th>3</th>\n",
       "      <td>1</td>\n",
       "      <td>-1.75679</td>\n",
       "      <td>-14.11208</td>\n",
       "      <td>0</td>\n",
       "    </tr>\n",
       "    <tr>\n",
       "      <th>4</th>\n",
       "      <td>1</td>\n",
       "      <td>1.05299</td>\n",
       "      <td>-11.21872</td>\n",
       "      <td>0</td>\n",
       "    </tr>\n",
       "  </tbody>\n",
       "</table>\n",
       "</div>"
      ],
      "text/plain": [
       "   x0        x1        x2  clase\n",
       "0   1   1.00079 -14.96788      0\n",
       "1   1  10.20447 -10.82023      0\n",
       "2   1  -5.88639 -17.10331      0\n",
       "3   1  -1.75679 -14.11208      0\n",
       "4   1   1.05299 -11.21872      0"
      ]
     },
     "execution_count": 399,
     "metadata": {},
     "output_type": "execute_result"
    }
   ],
   "source": [
    "data_original = pd.read_csv('dataset1Pr2.csv', names=[\"x1\", \"x2\", \"clase\"])\n",
    "data_work = data_original\n",
    "data_work['clase'] = data_work['clase'].astype(int)\n",
    "data_work['x0'] = 1\n",
    "data_work = data_work[['x0', 'x1', 'x2', 'clase']]\n",
    "data_work.head()"
   ]
  },
  {
   "cell_type": "code",
   "execution_count": 400,
   "metadata": {},
   "outputs": [],
   "source": [
    "data_work_values = data_work.values\n",
    "for elem in data_work_values:\n",
    "    if elem[3]>0:\n",
    "        #elem[0]*=-1\n",
    "        elem[1]*=-1\n",
    "        elem[2]*=-1"
   ]
  },
  {
   "cell_type": "code",
   "execution_count": 401,
   "metadata": {},
   "outputs": [],
   "source": [
    "def perceptron_train(y,nk=0.1, umbral=0.01):\n",
    "    a = np.array([0,0,0])\n",
    "    while True: \n",
    "        jp = np.array([0.0,0.0,0.0])\n",
    "        for yi in y:\n",
    "            clasification = np.dot(a.T, yi)\n",
    "            #print(\"clasification: \", clasification)\n",
    "            if clasification <= 0:\n",
    "                jp+= yi\n",
    "\n",
    "        #print(\" jp: \", jp)\n",
    "        ajuste = nk * jp\n",
    "        a = a + ajuste\n",
    "\n",
    "        #print(ajuste, \" a: \", a)\n",
    "        if abs(np.sum(ajuste)) < umbral:\n",
    "            break\n",
    "\n",
    "    return a"
   ]
  },
  {
   "cell_type": "code",
   "execution_count": 402,
   "metadata": {},
   "outputs": [],
   "source": [
    "y = data_work_values[:, [0,1,2]]\n",
    "a = perceptron_train(y, nk=0.1, umbral=0.001)"
   ]
  },
  {
   "cell_type": "code",
   "execution_count": 403,
   "metadata": {},
   "outputs": [
    {
     "name": "stdout",
     "output_type": "stream",
     "text": [
      "+++++================error=====================+++\n",
      "185.54355093565783  ||  1.0\n",
      "+++++================error=====================+++\n",
      "147.52685970234882  ||  1.0\n"
     ]
    }
   ],
   "source": [
    "test = data_work.values\n",
    "for it in test:\n",
    "    clasification = np.dot(a.T, it[0:3])\n",
    "\n",
    "    if clasification>0 and it[3]==0:\n",
    "        continue\n",
    "    \n",
    "    if clasification<0 and it[3]==1:\n",
    "        continue\n",
    "    \n",
    "    print(\"+++++================error=====================+++\")\n",
    "    print(clasification, \" || \",it[3])\n",
    "    if clasification==0:\n",
    "        print(\"frontera\")"
   ]
  },
  {
   "cell_type": "code",
   "execution_count": 404,
   "metadata": {},
   "outputs": [],
   "source": [
    "def frontera(x):\n",
    "    return (-a[0]+a[1]*x)/a[2]"
   ]
  },
  {
   "cell_type": "code",
   "execution_count": 405,
   "metadata": {},
   "outputs": [
    {
     "data": {
      "image/png": "[encoded data removed]",
      "text/plain": [
       "<Figure size 432x288 with 1 Axes>"
      ]
     },
     "metadata": {},
     "output_type": "display_data"
    }
   ],
   "source": [
    "plt.scatter(data_work['x1'].values,data_work['x2'].values, s=40, c=data_work['clase'].values, cmap=plt.cm.Spectral)\n",
    "t1 = np.arange(-15, 15, 0.02)\n",
    "plt.plot(t1, frontera(t1), lw=3)\n",
    "plt.show()"
   ]
  },
  {
   "cell_type": "markdown",
   "metadata": {},
   "source": [
    "### Pt3"
   ]
  },
  {
   "cell_type": "code",
   "execution_count": 406,
   "metadata": {},
   "outputs": [
    {
     "data": {
      "text/plain": [
       "array([[0, 0, 1],\n",
       "       [0, 1, 0],\n",
       "       [1, 0, 0],\n",
       "       [1, 1, 1]])"
      ]
     },
     "execution_count": 406,
     "metadata": {},
     "output_type": "execute_result"
    }
   ],
   "source": [
    "data_new = np.array([[0,0,1],[0,1,0], [1,0,0], [1,1,1]])\n",
    "data_new"
   ]
  },
  {
   "cell_type": "code",
   "execution_count": 407,
   "metadata": {},
   "outputs": [
    {
     "data": {
      "text/plain": [
       "<matplotlib.collections.PathCollection at 0x1169e3e10>"
      ]
     },
     "execution_count": 407,
     "metadata": {},
     "output_type": "execute_result"
    },
    {
     "data": {
      "image/png": "[encoded data removed]",
      "text/plain": [
       "<Figure size 432x288 with 1 Axes>"
      ]
     },
     "metadata": {},
     "output_type": "display_data"
    }
   ],
   "source": [
    "plt.scatter(data_new[:,0], data_new[:,1], s=40, c=data_new[:,2], cmap=plt.cm.Spectral)"
   ]
  },
  {
   "cell_type": "markdown",
   "metadata": {},
   "source": [
    "Add x0=1, y multiplico por -1 para la clase w0"
   ]
  },
  {
   "cell_type": "code",
   "execution_count": 408,
   "metadata": {},
   "outputs": [
    {
     "data": {
      "text/plain": [
       "array([[ 0,  0,  0,  1],\n",
       "       [ 0,  0, -1,  0],\n",
       "       [ 0, -1,  0,  0],\n",
       "       [ 0,  1,  1,  1]])"
      ]
     },
     "execution_count": 408,
     "metadata": {},
     "output_type": "execute_result"
    }
   ],
   "source": [
    "data_new_norm = np.array([[0,0,0,1],[0,0,-1,0], [0,-1,0,0], [0,1,1,1]])\n",
    "data_new_norm"
   ]
  },
  {
   "cell_type": "code",
   "execution_count": 409,
   "metadata": {},
   "outputs": [
    {
     "data": {
      "text/plain": [
       "array([0., 0., 0.])"
      ]
     },
     "execution_count": 409,
     "metadata": {},
     "output_type": "execute_result"
    }
   ],
   "source": [
    "y_n = data_new_norm[:, [0,1,2]]\n",
    "a = perceptron_train(y_n, nk=0.1, umbral=0.00001)\n",
    "a"
   ]
  },
  {
   "cell_type": "markdown",
   "metadata": {},
   "source": [
    "Estos datos representan la funcion XOR, la cual no es linealmente separable, por lo tanto la función de decisión no puede obtenerse utilizando un solo perceptron."
   ]
  },
  {
   "cell_type": "markdown",
   "metadata": {},
   "source": [
    "## Ejercicio 4: Criterio de Fisher"
   ]
  },
  {
   "cell_type": "markdown",
   "metadata": {},
   "source": [
    "Dado un conjunto de n muestras d-dimensionales $x_1, ..., x_n$, $n_1$ en el subconjunto $D_1$ etiquetado $\\omega_1$ y $n_2$ en el subconjunto $D_2$ etiquetado $\\omega_2$. Si formamos una combinación lineal de los componentes de $x$, obtenemos el producto de punto escalar.\n",
    "\n",
    "$$y=w^tx$$\n",
    "y un conjunto correspondiente de $n$ muestras $y_1, ..., y_n$ dividido en los subconjuntos $\\gamma_1$ y $\\gamma_2$.\n",
    "\n",
    "Una medida de la separación entre los puntos proyectados es la diferencia de las medias de las muestras.\n",
    "\n",
    "$m_i$: media de d-dimensional $$m_i=\\frac{1}{n_i} \\sum_{x \\in D_i } x$$\n",
    "\n",
    "entonces, la media de la proyección está dada por:\n",
    "\n",
    "$$\\widetilde{m}_i=\\frac{1}{n_i} \\sum_{y \\in \\gamma_i } y$$\n",
    "$$=\\frac{1}{n_i} \\sum_{y \\in \\gamma_i } w^tx=w^tm_i$$ y esto es la proyección de la media.\n",
    "\n",
    "Se define la distancia entre las medias proyectadas:\n",
    "$$|\\widetilde{m}_1 - \\widetilde{m}_2| = |w^t(m_1-m_2)|$$\n",
    "\n",
    "Podemos hacer esta diferencia tan grande como deseamos simplemente al escalar $w$. Por supuesto, para obtener una buena separación de los datos proyectados, realmente queremos que la diferencia entre los medias sea grande en relación con alguna medida de las desviaciones estándar para cada clase."
   ]
  },
  {
   "cell_type": "markdown",
   "metadata": {},
   "source": [
    "Varianza: \n",
    "$$=\\frac{1}{n} \\sum_{x_i \\in X }(x_i-\\overline{X})^2$$ \n",
    "\n",
    "$x_{i}$: cada dato\n",
    "\n",
    "$\\overline{X}$:media de los datos\n",
    "\n",
    "n: número de datos\n",
    "\n",
    "Se define la dispersión(scatter) para muestras proyectadas etiquetadas $\\omega_i$ como:\n",
    "$$\\widetilde{s}_i^2= \\sum_{y \\in \\gamma_i } (y-\\widetilde{m}_i)^2$$\n",
    "\n",
    "\n",
    "Entonces $\\frac{1}{n}(\\widetilde{s}_1^2+\\widetilde{s}_2^2)$ es una estimación de la varianza de los datos agrupados, y $\\widetilde{s}_1^2+\\widetilde{s}_2^2$ se denomina dispersión total dentro de la clase de las muestras proyectadas.\n",
    "\n",
    "Finalmente, el discriminante lineal de Fisher emplea la función lineal $w^tx$ para la cual el criterio $J(w)$ es máximo.\n",
    "\n",
    "$$J(w)=\\frac{\\mid \\widetilde{m}_1 - \\widetilde{m}_2 \\mid^2}{\\widetilde{s}_1^2+\\widetilde{s}_2^2}$$\n",
    "\n",
    "Para obtener $J(·)$ como una función explícita de $w$, se definen las matrices de dispersión $S_i$ y $S_W$:\n",
    "$$S_i=\\sum_{x \\in D_i } (x-m_i)(x-m_i)^t$$\n",
    "$$S_W=S_1+S_2$$\n",
    "Se denomina $S_W$ la matriz de dispersión dentro de la clase.\n",
    "\n",
    "\n",
    "Reescribiendo:\n",
    "$$\\widetilde{s}_i^2= w^tS_iw$$\n",
    "$$\\widetilde{s}_1^2+\\widetilde{s}_2^2 = w^tS_Ww$$\n",
    "\n",
    "$$(\\widetilde{m}_1 - \\widetilde{m}_2)^2 = (w^t{m}_1 - w^t{m}_2)^2 =w^t({m}_1-{m}_2)({m}_1-{m}_1)^tw = w^tS_Bw$$\n",
    "siendo \n",
    "$$S_B=({m}_1-{m}_2)({m}_1-{m}_1)^t$$\n",
    "\n",
    "Se denomina $S_B$ la matriz de dispersión entre clases.\n",
    "\n",
    "En términos de $S_B$ y $S_W$, la función de criterio $J(·)$ se puede escribir como:\n",
    "$$J(w)=\\frac{w^tS_Bw}{w^tS_Ww}=\\frac{(w^t{m}_1 - w^t{m}_2)^2}{w^tS_Ww}$$"
   ]
  },
  {
   "cell_type": "code",
   "execution_count": 410,
   "metadata": {},
   "outputs": [
    {
     "data": {
      "text/html": [
       "<div>\n",
       "<style scoped>\n",
       "    .dataframe tbody tr th:only-of-type {\n",
       "        vertical-align: middle;\n",
       "    }\n",
       "\n",
       "    .dataframe tbody tr th {\n",
       "        vertical-align: top;\n",
       "    }\n",
       "\n",
       "    .dataframe thead th {\n",
       "        text-align: right;\n",
       "    }\n",
       "</style>\n",
       "<table border=\"1\" class=\"dataframe\">\n",
       "  <thead>\n",
       "    <tr style=\"text-align: right;\">\n",
       "      <th></th>\n",
       "      <th>x1</th>\n",
       "      <th>x2</th>\n",
       "      <th>clase</th>\n",
       "    </tr>\n",
       "  </thead>\n",
       "  <tbody>\n",
       "    <tr>\n",
       "      <th>0</th>\n",
       "      <td>1.00079</td>\n",
       "      <td>-14.96788</td>\n",
       "      <td>0</td>\n",
       "    </tr>\n",
       "    <tr>\n",
       "      <th>1</th>\n",
       "      <td>10.20447</td>\n",
       "      <td>-10.82023</td>\n",
       "      <td>0</td>\n",
       "    </tr>\n",
       "    <tr>\n",
       "      <th>2</th>\n",
       "      <td>-5.88639</td>\n",
       "      <td>-17.10331</td>\n",
       "      <td>0</td>\n",
       "    </tr>\n",
       "    <tr>\n",
       "      <th>3</th>\n",
       "      <td>-1.75679</td>\n",
       "      <td>-14.11208</td>\n",
       "      <td>0</td>\n",
       "    </tr>\n",
       "    <tr>\n",
       "      <th>4</th>\n",
       "      <td>1.05299</td>\n",
       "      <td>-11.21872</td>\n",
       "      <td>0</td>\n",
       "    </tr>\n",
       "  </tbody>\n",
       "</table>\n",
       "</div>"
      ],
      "text/plain": [
       "         x1        x2  clase\n",
       "0   1.00079 -14.96788      0\n",
       "1  10.20447 -10.82023      0\n",
       "2  -5.88639 -17.10331      0\n",
       "3  -1.75679 -14.11208      0\n",
       "4   1.05299 -11.21872      0"
      ]
     },
     "execution_count": 410,
     "metadata": {},
     "output_type": "execute_result"
    }
   ],
   "source": [
    "data_original = pd.read_csv('dataset1Pr2.csv', names=[\"x1\", \"x2\", \"clase\"])\n",
    "data_work = data_original\n",
    "data_work['clase'] = data_work['clase'].astype(int)\n",
    "X = data_work[['x1', 'x2']].values\n",
    "Y = data_work[['clase']].values\n",
    "data_work.head()"
   ]
  },
  {
   "cell_type": "code",
   "execution_count": 411,
   "metadata": {},
   "outputs": [],
   "source": [
    "C1 = data_work[data_work['clase']==0][['x1', 'x2']]\n",
    "C2 = data_work[data_work['clase']==1][['x1', 'x2']]\n",
    "\n",
    "C1 = C1.values\n",
    "C2 = C2.values"
   ]
  },
  {
   "cell_type": "code",
   "execution_count": 412,
   "metadata": {},
   "outputs": [
    {
     "name": "stdout",
     "output_type": "stream",
     "text": [
      "[array([ -0.2861067, -11.7981939]), array([ 1.2259011, 11.1264771])]\n"
     ]
    }
   ],
   "source": [
    "# medianas\n",
    "means = [C1.mean(axis=0), C2.mean(axis=0)]\n",
    "print(means)"
   ]
  },
  {
   "cell_type": "code",
   "execution_count": 413,
   "metadata": {},
   "outputs": [
    {
     "name": "stdout",
     "output_type": "stream",
     "text": [
      "w:  [-0.0010549   0.00781571]\n"
     ]
    }
   ],
   "source": [
    "# Sw = S1 + S2\n",
    "\n",
    "S_W = np.zeros((2, 2))\n",
    "\n",
    "# S1\n",
    "for x_it in C1:\n",
    "    S_W += np.outer(x_it - means[0], (x_it - means[0]))\n",
    "        \n",
    "# S2\n",
    "for x_it in C2:\n",
    "    S_W += np.outer(x_it - means[1], (x_it - means[1]))\n",
    "\n",
    "w = np.linalg.inv(S_W).dot((means[1]-means[0]))\n",
    "print(\"w: \", w)"
   ]
  },
  {
   "cell_type": "code",
   "execution_count": 414,
   "metadata": {},
   "outputs": [
    {
     "name": "stderr",
     "output_type": "stream",
     "text": [
      "/usr/local/lib/python3.6/site-packages/matplotlib/cbook/deprecation.py:107: MatplotlibDeprecationWarning: Adding an axes using the same arguments as a previous axes currently reuses the earlier instance.  In a future version, a new instance will always be created and returned.  Meanwhile, this warning can be suppressed, and the future behavior ensured, by passing a unique label to each axes instance.\n",
      "  warnings.warn(message, mplDeprecation, stacklevel=1)\n"
     ]
    },
    {
     "data": {
      "text/plain": [
       "<matplotlib.patches.FancyArrow at 0x1173e7518>"
      ]
     },
     "execution_count": 414,
     "metadata": {},
     "output_type": "execute_result"
    },
    {
     "data": {
      "image/png": "[encoded data removed]",
      "text/plain": [
       "<Figure size 432x288 with 1 Axes>"
      ]
     },
     "metadata": {},
     "output_type": "display_data"
    }
   ],
   "source": [
    "plt.scatter(X[:, [0]],X[:, [1]], s=30, c=Y[:, [0]], cmap=plt.cm.Spectral)\n",
    "    \n",
    "ax = plt.axes()        \n",
    "ax.arrow(0, 0, w[0]*2000,w[1]*2000,head_width=0.55, head_length=1.5, fc='k', ec='k') "
   ]
  },
  {
   "cell_type": "code",
   "execution_count": 415,
   "metadata": {},
   "outputs": [
    {
     "data": {
      "image/png": "[encoded data removed]",
      "text/plain": [
       "<Figure size 432x288 with 1 Axes>"
      ]
     },
     "metadata": {},
     "output_type": "display_data"
    },
    {
     "name": "stdout",
     "output_type": "stream",
     "text": [
      "Precisión: 99.0%\n"
     ]
    },
    {
     "data": {
      "image/png": "[encoded data removed]",
      "text/plain": [
       "<Figure size 432x288 with 1 Axes>"
      ]
     },
     "metadata": {},
     "output_type": "display_data"
    }
   ],
   "source": [
    "# \n",
    "y_correct = []\n",
    "x_correct = []\n",
    "\n",
    "for i in range(len(X)):\n",
    "    if (X[i][0]*w[0]+X[i][1]*w[1] >= 0):\n",
    "        clasif = 1\n",
    "    else:\n",
    "        clasif = 0\n",
    "            \n",
    "    if(clasif == Y[i]):\n",
    "        x_correct.append(X[i])\n",
    "        y_correct.append(clasif)\n",
    "        \n",
    "x_correct = np.array(x_correct)\n",
    "y_correct = np.array(y_correct)\n",
    "\n",
    "plt.title('Clases correctas')\n",
    "plt.scatter(X[:, [0]],X[:, [1]], s=30, c=Y[:, [0]], cmap=plt.cm.Spectral)\n",
    "plt.show() \n",
    "\n",
    "\n",
    "plt.title('Clases estimadas')\n",
    "plt.scatter(x_correct[:, [0]],x_correct[:, [1]], s=30, c=y_correct.reshape(y_correct.shape[0],1), cmap=plt.cm.Spectral)\n",
    "\n",
    "print (\"Precisión: {0}%\".format(x_correct.shape[0]*100/200))"
   ]
  },
  {
   "cell_type": "markdown",
   "metadata": {},
   "source": [
    "## Ejercicio 5: Regresión logística"
   ]
  },
  {
   "cell_type": "markdown",
   "metadata": {},
   "source": [
    "### Pt1"
   ]
  },
  {
   "cell_type": "markdown",
   "metadata": {},
   "source": [
    "Regresión logística dos clases.\n",
    "Sean $C_1, C_2$, las clases a la que pertenecen las muestras x.\n",
    "se define las distribuciones a posteriori como:\n",
    "$$p(C_1|x) = y(x) = \\sigma(w^t x)$$\n",
    "$$p(C_2|x) = 1 − p(C_1|x)$$\n",
    "La función $\\sigma(a) = \\frac{1}{1+\\exp(-a)}$ se conoce como sigmoide.\n",
    "\n",
    "\n",
    "Verifica las siguientes propiedades:\n",
    "        $\\sigma(a)$ es creciente y su rango es $[0, 1)$. \n",
    "        Puede ser interpretada como una probabilidad $\\sigma(a) = 1 − \\sigma(a)$"
   ]
  },
  {
   "cell_type": "markdown",
   "metadata": {},
   "source": [
    "Disponemos de N muestras independientes etiquetadas, ${x_n, y_n}$ $n = 1, 2, . . . , N$, con $y_n  \\in \\{0, 1\\}$. Definimos $y = (y_1, y_2, . . . , y_N)^t$ .\n",
    "Cada muestra $x_n$ sigue una distribución de Bernoulli de parámetro\n",
    "$t_n = p(C_1\\mid x_n)=  \\sigma(w^t x)$, y debido a la independencia tenemos que la verosimilitud es \n",
    "$$p(y \\mid w) = \\prod_{n=1}^{N} t_n^{y_n}(1 − t_n)^{1-y_n}$$\n",
    "Para obtener el w óptimo debemos maximizar esta expresión, o podemos minimizar el costo\n",
    "\n",
    "$$E(w)= -\\ln p(y \\mid w) $$"
   ]
  },
  {
   "cell_type": "markdown",
   "metadata": {},
   "source": [
    "Se define \n",
    "$$\\sigma(x_i, w)=\\frac{1}{1+\\exp(-(w_0 + \\sum_{j=1}^k w_{ij}x_{ij}))}$$\n",
    "\n",
    "Entonces:\n",
    "\n",
    "$$\\ln(w \\mid X,y) = -\\ln p(y \\mid w) $$ \n",
    "$$= -\\ln (\\prod_{n=1}^{N} t_n^{y_n}(1 − t_n)^{1-y_n}) $$\n",
    "$$\\ln(w \\mid X,y) = -\\ln (\\prod_{n=1}^{N} \\sigma(x_n,w)^{y_n}(1 − \\sigma(x_n,w))^{1-y_n}) $$"
   ]
  },
  {
   "cell_type": "markdown",
   "metadata": {},
   "source": [
    "### Pt2"
   ]
  },
  {
   "cell_type": "markdown",
   "metadata": {},
   "source": [
    "Usando las propiedades del logaritmo\n",
    "$$\\ln(w \\mid X,y)=-\\sum_{n=1}^{N} \\ln (\\sigma(x_n,w)^{y_n}(1 − \\sigma(x_n,w))^{1-y_n}) $$\n",
    "$$=-\\sum_{n=1}^{N} \\ln (\\sigma(x_n,w)^{y_n}) + \\ln (1 − \\sigma(x_n,w))^{1-y_n} $$\n",
    "$$=-\\sum_{n=1}^{N} {y_n}\\ln (\\sigma(x_n,w)) + ({1-y_n})\\ln (1 − \\sigma(x_n,w))$$\n",
    "\n",
    "$$\\frac{\\partial}{ \\partial w_j}\\ln(w \\mid X,y) = \\frac{\\partial}{ \\partial w_j}-(\\sum_{n=1}^{N} {y_n}\\ln (\\sigma(x_n,w)) + ({1-y_n})\\ln (1 − \\sigma(x_n,w)))$$ "
   ]
  },
  {
   "cell_type": "markdown",
   "metadata": {},
   "source": [
    "<hr>\n",
    "Propiedades logaritmo\n",
    "$$\\ln(x y) = \\ln(x) + \\ln(y)$$\n",
    "$$\\ln(\\frac{x}{y}) = \\ln(x) - \\ln(y)$$\n",
    "$$\\ln(x^y) = y\\ln(x)$$\n",
    "\n",
    "Propiedades derivadas\n",
    "$$\\ln'(u) = \\frac{u'}{u}$$\n",
    "$$(\\frac{1}{u})' = -\\frac{u'}{u^2}$$\n",
    "$$(\\exp(u))' = u'\\exp(u)$$\n",
    "<hr>\n",
    "Derivando el primer factor\n",
    "$$ln'(σ(xn,w))= \\frac{σ'(xn,w)}{σ(xn,w)}$$\n",
    "$$σ'(xn,w) = (1+\\exp(-(w_0 + \\sum_{j=1}^k w_{ij}x_{ij})))'* σ^2(xn,w)$$\n",
    "$$ = (σ^{-1}(xn,w))' σ^2(xn,w)$$\n",
    "$$ = x_{ij}(σ^{-1}(xn,w)-1)σ^2(xn,w)$$\n",
    "$$ = x_{ij}(σ(xn,w) - σ^2(xn,w))$$\n",
    "\n",
    "Entonces:\n",
    "$$ln'(σ(xn,w))= \\frac{x_{ij}(σ(xn,w) - σ^2(xn,w))}{σ(xn,w)}$$\n",
    "$$ln'(σ(xn,w))= x_{ij}(1 - σ(xn,w))$$\n",
    "<hr>\n",
    "Derivando el segundo factor\n",
    "$$ln'(1-σ(xn,w))= \\frac{(1-σ(xn,w))'}{1-σ(xn,w)}$$\n",
    "Derivando\n",
    "$$(1-σ(xn,w))' = -σ'(xn,w)$$\n",
    "$$ln'(1-σ(xn,w))= -\\frac{σ'(xn,w)}{1-σ(xn,w)}$$\n",
    "$$= -\\frac{x_{ij}(σ(xn,w) - σ^2(xn,w))}{1-σ(xn,w)}$$\n",
    "Factor común\n",
    "$$= -\\frac{x_{ij}(σ(xn,w)(1-σ(xn,w)))}{1-σ(xn,w)}$$\n",
    "Cancelando\n",
    "$$ln'(1-σ(xn,w))= -x_{ij} σ(xn,w)$$\n",
    "<hr>\n",
    "\n",
    "Uniendo todo:\n",
    "$$= -(\\sum_{n=1}^{N} {y_n}\\ln (\\sigma(x_n,w)) + ({1-y_n})\\ln (1 − \\sigma(x_n,w)))'$$ \n",
    "$$=-\\sum_{n=1}^{N} {y_n}x_{ij}(1 - σ(xn,w))+ ({1-y_n})(-x_{ij} σ(xn,w))$$\n",
    "$$=-\\sum_{n=1}^{N} {y_n}x_{ij} - {y_n}x_{ij}σ(xn,w) -x_{ij} σ(xn,w) +y_n x_{ij} σ(xn,w)$$\n",
    "$$=-\\sum_{n=1}^{N} {y_n}x_{ij} -x_{ij} σ(xn,w)$$\n",
    "$$\\frac{\\partial}{ \\partial w_j}\\ln(w \\mid X,y)=-\\sum_{n=1}^{N} x_{ij}({y_n} -σ(xn,w))$$"
   ]
  },
  {
   "cell_type": "markdown",
   "metadata": {},
   "source": [
    "### Pt3"
   ]
  },
  {
   "cell_type": "code",
   "execution_count": 416,
   "metadata": {},
   "outputs": [],
   "source": [
    "data_original = pd.read_csv('dataset2Pr2.csv', names=[\"x1\", \"x2\", \"clase\"])\n",
    "data_work = data_original\n",
    "data_work['clase'] = data_work['clase'].astype(int)\n",
    "data_work['x0'] = 1\n",
    "data_work = data_work[['x0', 'x1', 'x2', 'clase']]\n",
    "data_work.head()\n",
    "X = data_work[['x0', 'x1', 'x2']].values\n",
    "Y = data_work[['clase']].values"
   ]
  },
  {
   "cell_type": "code",
   "execution_count": 417,
   "metadata": {},
   "outputs": [],
   "source": [
    "def fi(xi, w):\n",
    "    prod = np.dot(w.T, xi)    \n",
    "    ex = math.exp(-prod)    \n",
    "    di = 1/(1+ex)\n",
    "    return di"
   ]
  },
  {
   "cell_type": "code",
   "execution_count": 418,
   "metadata": {},
   "outputs": [],
   "source": [
    "def log_ver_gradiente(xi,yi, w):\n",
    "    return xi * (yi - fi(xi,w))"
   ]
  },
  {
   "cell_type": "code",
   "execution_count": 419,
   "metadata": {},
   "outputs": [],
   "source": [
    "def regresion_train(x, y, nk=0.01, umbral=0.01):\n",
    "    w = np.array([0,0,0])\n",
    "    while True: \n",
    "        log_ver = np.array([0.0,0.0,0.0])\n",
    "        for i in range(len(x)):\n",
    "            log_ver+= log_ver_gradiente(x[i],y[i],w)\n",
    "\n",
    "        #print(\"log_ver: \", log_ver)\n",
    "        ajuste = nk * log_ver\n",
    "        w = w + ajuste\n",
    "        if abs(np.sum(ajuste)) < umbral:\n",
    "            break\n",
    "\n",
    "    return w"
   ]
  },
  {
   "cell_type": "code",
   "execution_count": 420,
   "metadata": {},
   "outputs": [],
   "source": [
    "w_calc = regresion_train(X, Y, umbral=0.01)"
   ]
  },
  {
   "cell_type": "code",
   "execution_count": 421,
   "metadata": {},
   "outputs": [
    {
     "name": "stdout",
     "output_type": "stream",
     "text": [
      "incorrect=====================\n",
      "incorrect=====================\n",
      "incorrect=====================\n",
      "incorrect=====================\n",
      "incorrect=====================\n",
      "incorrect=====================\n"
     ]
    }
   ],
   "source": [
    "for i in range(len(X)):\n",
    "    clasification = fi(X[i], w_calc)\n",
    "    if(clasification>=0.5 and Y[i]==1):\n",
    "        continue\n",
    "    elif (clasification<0.5 and Y[i]==0):\n",
    "        continue\n",
    "    else:\n",
    "       print(\"incorrect=====================\") "
   ]
  },
  {
   "cell_type": "code",
   "execution_count": 422,
   "metadata": {},
   "outputs": [],
   "source": [
    "def frontera2(x, w):\n",
    "    return (-w[0]+w[1]*x)/w[2]"
   ]
  },
  {
   "cell_type": "code",
   "execution_count": 423,
   "metadata": {},
   "outputs": [
    {
     "data": {
      "image/png": "[encoded data removed]",
      "text/plain": [
       "<Figure size 432x288 with 1 Axes>"
      ]
     },
     "metadata": {},
     "output_type": "display_data"
    }
   ],
   "source": [
    "plt.scatter(X[:, [1]],X[:, [2]], s=20, c=Y[:, [0]], cmap=plt.cm.Spectral)\n",
    "t1 = np.arange(-15, 15, 0.02)\n",
    "plt.plot(t1, frontera2(t1, w_calc), lw=1)\n",
    "plt.show()"
   ]
  }
 ],
 "metadata": {
  "kernelspec": {
   "display_name": "Python 3",
   "language": "python",
   "name": "python3"
  },
  "language_info": {
   "codemirror_mode": {
    "name": "ipython",
    "version": 3
   },
   "file_extension": ".py",
   "mimetype": "text/x-python",
   "name": "python",
   "nbconvert_exporter": "python",
   "pygments_lexer": "ipython3",
   "version": "3.6.5"
  }
 },
 "nbformat": 4,
 "nbformat_minor": 2
}
